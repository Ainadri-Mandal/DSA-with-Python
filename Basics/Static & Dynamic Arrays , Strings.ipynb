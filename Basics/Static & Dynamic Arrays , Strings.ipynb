{
 "cells": [
  {
   "cell_type": "markdown",
   "id": "62fb455d-a86a-4a78-a094-d79a9e533d66",
   "metadata": {},
   "source": [
    "# Static & Dynamic Arrays , Strings"
   ]
  },
  {
   "cell_type": "code",
   "execution_count": 1,
   "id": "4436b128-fe22-4c39-b1fc-f376568a813d",
   "metadata": {},
   "outputs": [
    {
     "name": "stdout",
     "output_type": "stream",
     "text": [
      "[1, 2, 3]\n"
     ]
    }
   ],
   "source": [
    "A = [1,2,3]\n",
    "print(A)"
   ]
  },
  {
   "cell_type": "code",
   "execution_count": 2,
   "id": "da56b4a4-9b69-4b42-a098-66ef75099d3c",
   "metadata": {},
   "outputs": [
    {
     "name": "stdout",
     "output_type": "stream",
     "text": [
      "[1, 2, 3, 5]\n"
     ]
    }
   ],
   "source": [
    "# Append - Insert element at end of array - On avg : O(1)\n",
    "A.append(5)\n",
    "print(A)\n"
   ]
  },
  {
   "cell_type": "code",
   "execution_count": 3,
   "id": "9ee7478d-f34e-4420-b61b-e9c8cef4def8",
   "metadata": {},
   "outputs": [
    {
     "name": "stdout",
     "output_type": "stream",
     "text": [
      "[1, 2, 3]\n"
     ]
    }
   ],
   "source": [
    "#Pop - Deleting element at end of array - O(1)\n",
    "A.pop()\n",
    "print(A)"
   ]
  },
  {
   "cell_type": "code",
   "execution_count": 4,
   "id": "a8c4257c-5a67-44da-b9e3-62172e04ef4e",
   "metadata": {},
   "outputs": [
    {
     "name": "stdout",
     "output_type": "stream",
     "text": [
      "[1, 2, 5, 3]\n"
     ]
    }
   ],
   "source": [
    "# Insert (not at the end array) - O(n)\n",
    "A.insert(2,5)\n",
    "print(A)"
   ]
  },
  {
   "cell_type": "code",
   "execution_count": 5,
   "id": "8a8792b5-8feb-4752-8a25-ca60069006d1",
   "metadata": {},
   "outputs": [
    {
     "name": "stdout",
     "output_type": "stream",
     "text": [
      "[7, 2, 5, 3]\n"
     ]
    }
   ],
   "source": [
    "#Modify an element - O(1)\n",
    "A[0] = 7\n",
    "print(A)"
   ]
  },
  {
   "cell_type": "code",
   "execution_count": 6,
   "id": "f532245c-d939-4d9e-a775-fc5bd9205f8a",
   "metadata": {},
   "outputs": [
    {
     "name": "stdout",
     "output_type": "stream",
     "text": [
      "5\n"
     ]
    }
   ],
   "source": [
    "# Accessing element given index i - O(1)\n",
    "print(A[2])"
   ]
  },
  {
   "cell_type": "code",
   "execution_count": 8,
   "id": "a9a0e2b7-8078-4a5e-982b-46d66524510d",
   "metadata": {},
   "outputs": [
    {
     "name": "stdout",
     "output_type": "stream",
     "text": [
      "False\n"
     ]
    }
   ],
   "source": [
    "# Checking if array has an element - O(n)\n",
    "print(6 in A)"
   ]
  },
  {
   "cell_type": "markdown",
   "id": "6c374171-b6bf-44b9-a9c8-860c8371607c",
   "metadata": {},
   "source": [
    "# Strings"
   ]
  },
  {
   "cell_type": "code",
   "execution_count": 12,
   "id": "a532e69c-f8a8-47cd-a391-50271d076d2d",
   "metadata": {},
   "outputs": [
    {
     "name": "stdout",
     "output_type": "stream",
     "text": [
      "hello\n",
      "helloz\n"
     ]
    }
   ],
   "source": [
    "# Append to the end of string - O(n)\n",
    "s = 'hello'\n",
    "b = s + 'z'\n",
    "print(s)\n",
    "print(b)"
   ]
  },
  {
   "cell_type": "code",
   "execution_count": 13,
   "id": "2021bd78-6863-4e07-b917-e33d3182693a",
   "metadata": {},
   "outputs": [
    {
     "name": "stdout",
     "output_type": "stream",
     "text": [
      "True\n"
     ]
    }
   ],
   "source": [
    "# Checking if someting is in the string - O(n)\n",
    "\n",
    "if 'e' in s:\n",
    "    print(True)\n",
    "else:\n",
    "    print(False)"
   ]
  },
  {
   "cell_type": "code",
   "execution_count": null,
   "id": "53ab64fc-9bbd-419a-a630-699addd24af6",
   "metadata": {},
   "outputs": [],
   "source": []
  }
 ],
 "metadata": {
  "kernelspec": {
   "display_name": "Python 3 (ipykernel)",
   "language": "python",
   "name": "python3"
  },
  "language_info": {
   "codemirror_mode": {
    "name": "ipython",
    "version": 3
   },
   "file_extension": ".py",
   "mimetype": "text/x-python",
   "name": "python",
   "nbconvert_exporter": "python",
   "pygments_lexer": "ipython3",
   "version": "3.13.5"
  }
 },
 "nbformat": 4,
 "nbformat_minor": 5
}
